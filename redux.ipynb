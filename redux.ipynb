{
 "cells": [
  {
   "cell_type": "markdown",
   "metadata": {},
   "source": [
    "We are going to create a submission for the cats vs dogs kaggle competition\n",
    "we have downloaded the test.zip, train.zip, and sample_submission.csv from the kaggle site, and unziped the test and train files. "
   ]
  },
  {
   "cell_type": "markdown",
   "metadata": {},
   "source": [
    "The first step will be to set up out file structure to organize our data.\n",
    "We will have in our project directory a train directory, a valid(ation) directory, and a sample directory. The train directory will have two sub-directories. One for cats and one for dogs. The valid directory will also have these two folders. We will sort the images into the train directories. From there we will take 20% of them and place them in the valid directories in their respective folders. The sample dir will mimic this structure with train and valid subdirectories. 100 of each cateogies image will be copied into it's respective folders in the train directory. 20% of these images will each be moved into the valid subdirectory under it's respective folder"
   ]
  },
  {
   "cell_type": "markdown",
   "metadata": {},
   "source": [
    "Let's start by building out the folder structure"
   ]
  },
  {
   "cell_type": "code",
   "execution_count": 1,
   "metadata": {
    "collapsed": true
   },
   "outputs": [],
   "source": [
    "%matplotlib inline"
   ]
  },
  {
   "cell_type": "markdown",
   "metadata": {},
   "source": [
    "Go ahead and throw the magic matplotlib in"
   ]
  },
  {
   "cell_type": "code",
   "execution_count": 2,
   "metadata": {
    "collapsed": true
   },
   "outputs": [],
   "source": [
    "import os, json\n",
    "from __future__ import division, print_function"
   ]
  },
  {
   "cell_type": "markdown",
   "metadata": {},
   "source": [
    "Print what dir we're currently in"
   ]
  },
  {
   "cell_type": "code",
   "execution_count": 3,
   "metadata": {
    "collapsed": false
   },
   "outputs": [
    {
     "name": "stdout",
     "output_type": "stream",
     "text": [
      "/home/ubuntu/nbs/dogscats-redux\n"
     ]
    }
   ],
   "source": [
    "print(os.getcwd())"
   ]
  },
  {
   "cell_type": "markdown",
   "metadata": {},
   "source": [
    "first lets make the valid directory"
   ]
  },
  {
   "cell_type": "code",
   "execution_count": 30,
   "metadata": {
    "collapsed": true
   },
   "outputs": [],
   "source": [
    "path = '/home/ubuntu/nbs/'"
   ]
  },
  {
   "cell_type": "markdown",
   "metadata": {},
   "source": [
    "set our home path because it's convenient"
   ]
  },
  {
   "cell_type": "code",
   "execution_count": 10,
   "metadata": {
    "collapsed": false
   },
   "outputs": [
    {
     "ename": "OSError",
     "evalue": "[Errno 17] File exists: 'valid'",
     "output_type": "error",
     "traceback": [
      "\u001b[0;31m-------------------------------------------------------------\u001b[0m",
      "\u001b[0;31mOSError\u001b[0m                     Traceback (most recent call last)",
      "\u001b[0;32m<ipython-input-10-2e35885b3304>\u001b[0m in \u001b[0;36m<module>\u001b[0;34m()\u001b[0m\n\u001b[0;32m----> 1\u001b[0;31m \u001b[0mos\u001b[0m\u001b[0;34m.\u001b[0m\u001b[0mmkdir\u001b[0m\u001b[0;34m(\u001b[0m\u001b[0;34m'valid'\u001b[0m\u001b[0;34m)\u001b[0m\u001b[0;34m\u001b[0m\u001b[0m\n\u001b[0m",
      "\u001b[0;31mOSError\u001b[0m: [Errno 17] File exists: 'valid'"
     ]
    }
   ],
   "source": [
    "os.mkdir('valid')"
   ]
  },
  {
   "cell_type": "markdown",
   "metadata": {},
   "source": [
    "next make the sample dir"
   ]
  },
  {
   "cell_type": "code",
   "execution_count": 11,
   "metadata": {
    "collapsed": true
   },
   "outputs": [],
   "source": [
    "os.mkdir('sample')"
   ]
  },
  {
   "cell_type": "markdown",
   "metadata": {},
   "source": [
    "We'll go ahead and jump into the train and valid directories and make dirs for categories (cats and dogs) in each"
   ]
  },
  {
   "cell_type": "code",
   "execution_count": 12,
   "metadata": {
    "collapsed": true
   },
   "outputs": [],
   "source": [
    "os.chdir('train')"
   ]
  },
  {
   "cell_type": "markdown",
   "metadata": {},
   "source": [
    "We can see that the cwd has changed now"
   ]
  },
  {
   "cell_type": "code",
   "execution_count": 13,
   "metadata": {
    "collapsed": false
   },
   "outputs": [
    {
     "name": "stdout",
     "output_type": "stream",
     "text": [
      "/home/ubuntu/nbs/dogscats-redux/train\n"
     ]
    }
   ],
   "source": [
    "print(os.getcwd())"
   ]
  },
  {
   "cell_type": "code",
   "execution_count": 14,
   "metadata": {
    "collapsed": true
   },
   "outputs": [],
   "source": [
    "os.mkdir('dogs')\n",
    "os.mkdir('cats')\n",
    "os.chdir('../valid')\n",
    "os.mkdir('dogs')\n",
    "os.mkdir('cats')\n",
    "os.chdir('..')"
   ]
  },
  {
   "cell_type": "markdown",
   "metadata": {},
   "source": [
    "we should expect to see dogs and cats dirs in train and valid directories now. In this particular case, listing the contents of the train directory will also show all the imgs. We will check everything at the end when we can expect to only find the directories"
   ]
  },
  {
   "cell_type": "markdown",
   "metadata": {},
   "source": [
    "now move to the sample dir and mirrow the structure of the home dir without creating another sample dir"
   ]
  },
  {
   "cell_type": "code",
   "execution_count": 7,
   "metadata": {
    "collapsed": false
   },
   "outputs": [],
   "source": [
    "os.chdir('sample')\n",
    "os.mkdir('valid')\n",
    "os.chdir('valid')\n",
    "os.mkdir('dogs')\n",
    "os.mkdir('cats')\n",
    "os.chdir('..')\n",
    "os.mkdir('train')\n",
    "os.chdir('train')\n",
    "os.mkdir('dogs')\n",
    "os.mkdir('cats')\n",
    "os.chdir('..')"
   ]
  },
  {
   "cell_type": "markdown",
   "metadata": {},
   "source": [
    "We should now be ready to sort our data starting at the top level.\n",
    "Let's start with going into the train dir and sorting anything that starts with cat and ends in .jpg into the cats dir and anything that starts with dog and ends with .jpg into the dogs dir"
   ]
  },
  {
   "cell_type": "code",
   "execution_count": 18,
   "metadata": {
    "collapsed": true
   },
   "outputs": [],
   "source": [
    "from glob import glob\n",
    "import shutil"
   ]
  },
  {
   "cell_type": "code",
   "execution_count": 34,
   "metadata": {
    "collapsed": false
   },
   "outputs": [],
   "source": [
    "os.chdir(path+'dogscats-redux')\n",
    "cat_files = glob('train/cat.*.jpg')\n",
    "for cat_path in cat_files:\n",
    "    shutil.move(cat_path, 'train/cats')"
   ]
  },
  {
   "cell_type": "markdown",
   "metadata": {},
   "source": [
    "now move dogs over"
   ]
  },
  {
   "cell_type": "code",
   "execution_count": 35,
   "metadata": {
    "collapsed": true
   },
   "outputs": [],
   "source": [
    "dog_files = glob('train/dog.*.jpg')\n",
    "for dog_path in dog_files:\n",
    "    shutil.move(dog_path, 'train/dogs')"
   ]
  },
  {
   "cell_type": "markdown",
   "metadata": {},
   "source": [
    "now we should see that train only has dogs and cats directories"
   ]
  },
  {
   "cell_type": "code",
   "execution_count": 10,
   "metadata": {
    "collapsed": false
   },
   "outputs": [
    {
     "name": "stdout",
     "output_type": "stream",
     "text": [
      "['cats', 'dogs']\n"
     ]
    }
   ],
   "source": [
    "print(os.listdir('train'))"
   ]
  },
  {
   "cell_type": "markdown",
   "metadata": {},
   "source": [
    "we do want the categories so lets grab those in a variable"
   ]
  },
  {
   "cell_type": "code",
   "execution_count": 13,
   "metadata": {
    "collapsed": true
   },
   "outputs": [],
   "source": [
    "categories = os.listdir('train')"
   ]
  },
  {
   "cell_type": "markdown",
   "metadata": {
    "collapsed": true
   },
   "source": [
    "since `os.listdir` returns a list in arbirary order, lets just grab the first 20% and move those to the respective validation folder.\n",
    "Grab the numpy library"
   ]
  },
  {
   "cell_type": "code",
   "execution_count": 14,
   "metadata": {
    "collapsed": true
   },
   "outputs": [],
   "source": [
    "import numpy as np"
   ]
  },
  {
   "cell_type": "code",
   "execution_count": 20,
   "metadata": {
    "collapsed": false
   },
   "outputs": [],
   "source": [
    "for category in categories:\n",
    "    #go into the respective folder and get a list of the images\n",
    "    path_to_train_cateogry = 'train/' + category + '/'\n",
    "    imgs = os.listdir(path_to_train_cateogry)\n",
    "    # get the first 20% of the images from the list and move them to the valid\n",
    "    for index in range(0, int(np.floor(len(imgs) * .20))):\n",
    "        shutil.move(path_to_train_cateogry + imgs[index], 'valid/' + category)\n",
    "        "
   ]
  },
  {
   "cell_type": "markdown",
   "metadata": {},
   "source": [
    "now that we have that set up, lets make our sample folder a copy of 100 from our train folder. We are arbitrarily picking 100 in this case"
   ]
  },
  {
   "cell_type": "code",
   "execution_count": 21,
   "metadata": {
    "collapsed": false
   },
   "outputs": [
    {
     "name": "stdout",
     "output_type": "stream",
     "text": [
      "/home/ubuntu/nbs/dogscats-redux\n"
     ]
    }
   ],
   "source": [
    "print(os.getcwd())"
   ]
  },
  {
   "cell_type": "code",
   "execution_count": 22,
   "metadata": {
    "collapsed": true
   },
   "outputs": [],
   "source": [
    "for category in categories:\n",
    "    #go into the respective folder and get a list of the images\n",
    "    path_to_train_category = 'train/' + category + '/'\n",
    "    imgs = os.listdir(path_to_train_category)\n",
    "    # get the first 100 of the images from the list and copy them to the respective dir in sample/'category'\n",
    "    for index in range(0, 100):\n",
    "        shutil.copy(path_to_train_category + imgs[index], 'sample/train/' + category)"
   ]
  },
  {
   "cell_type": "markdown",
   "metadata": {},
   "source": [
    "next move to the sample directory and do what we did with moving 20% of the files over"
   ]
  },
  {
   "cell_type": "code",
   "execution_count": 23,
   "metadata": {
    "collapsed": false
   },
   "outputs": [
    {
     "name": "stdout",
     "output_type": "stream",
     "text": [
      "/home/ubuntu/nbs/dogscats-redux/sample\n"
     ]
    }
   ],
   "source": [
    "os.chdir('sample')\n",
    "path = os.getcwd()\n",
    "print(path)"
   ]
  },
  {
   "cell_type": "markdown",
   "metadata": {},
   "source": [
    "we're going to move 20% or just 20 of the files to the valid dir in sample"
   ]
  },
  {
   "cell_type": "code",
   "execution_count": 24,
   "metadata": {
    "collapsed": true
   },
   "outputs": [],
   "source": [
    "for category in categories:\n",
    "    #go into the respective folder and get a list of the images\n",
    "    path_to_train_cateogry = 'train/' + category + '/'\n",
    "    imgs = os.listdir(path_to_train_cateogry)\n",
    "    # get the first 20% of the images from the list and move them to the valid\n",
    "    for index in range(0, int(np.floor(len(imgs) * .20))):\n",
    "        shutil.move(path_to_train_cateogry + imgs[index], 'valid/' + category)"
   ]
  },
  {
   "cell_type": "code",
   "execution_count": null,
   "metadata": {
    "collapsed": true
   },
   "outputs": [],
   "source": []
  }
 ],
 "metadata": {
  "anaconda-cloud": {},
  "kernelspec": {
   "display_name": "Python [conda root]",
   "language": "python",
   "name": "conda-root-py"
  },
  "language_info": {
   "codemirror_mode": {
    "name": "ipython",
    "version": 2
   },
   "file_extension": ".py",
   "mimetype": "text/x-python",
   "name": "python",
   "nbconvert_exporter": "python",
   "pygments_lexer": "ipython2",
   "version": "2.7.12"
  }
 },
 "nbformat": 4,
 "nbformat_minor": 1
}
